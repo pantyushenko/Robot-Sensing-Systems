{
 "cells": [
  {
   "cell_type": "markdown",
   "metadata": {
    "id": "IX91TDRwlk9D"
   },
   "source": [
    "## Лабораторная работа № 3\n",
    "-----\n",
    "\n",
    "Необходимо реализовать фильтр калмана по сигма точкам для приведенного задания."
   ]
  },
  {
   "cell_type": "markdown",
   "metadata": {
    "id": "98raKoY9lk9I"
   },
   "source": [
    "**Задача:** найти положение робота в 1D пространстве, при этом используем данные с камеры, измеряя высоту отдаленных\n",
    "ориентиров относительно горизонта.<br />\n",
    "**Замечание!**<br />\n",
    "1.) Сохраним ту же модель линейного движения, что и в исходном примере, и предположим, что мы знаем высоту ориентира и его положение в глобальной системе координат.<br />\n",
    "2.) Поскольку наш датчик измеряет угол, наша модель измерения имеет нелинейную зависимость от положения движущегося объекта.\n",
    "\n",
    "\n",
    "<img src=\"https://likerobotics.ru/images/task2.jpg\" width=\"400\"/>"
   ]
  },
  {
   "cell_type": "markdown",
   "metadata": {
    "id": "znffE16-lk9I"
   },
   "source": [
    "### Исходные данные \n",
    "Состояние\n",
    "$$\n",
    "\\mathbf{x}=\\left[\\begin{array}{c}\n",
    "p \\\\\n",
    "\\frac{d p}{d t}=\\dot{p}\n",
    "\\end{array}\\right]\n",
    "$$\n",
    "вход управления  $\\quad \\mathbf{u}=a=\\frac{d^{2} p}{d t^{2}}$\n",
    "<br />"
   ]
  },
  {
   "cell_type": "markdown",
   "metadata": {
    "id": "XwdFRqnRlk9J"
   },
   "source": [
    "Модель движения\n",
    "$$\n",
    "\\begin{aligned}\n",
    "\\mathbf{x}_{k} &=\\mathbf{f}\\left(\\mathbf{x}_{k-1}, \\mathbf{u}_{k-1}, \\mathbf{w}_{k-1}\\right) \\\\\n",
    "&=\\left[\\begin{array}{cc}\n",
    "1 & \\Delta t \\\\\n",
    "0 & 1\n",
    "\\end{array}\\right] \\mathbf{x}_{k-1}+\\left[\\begin{array}{c}\n",
    "0 \\\\\n",
    "\\Delta t\n",
    "\\end{array}\\right] \\mathbf{u}_{k-1}+\\mathbf{w}_{k-1} \\\\\n",
    "v_{k} & \\sim \\mathscr{N}(0,0.01) \\quad \\mathbf{w}_{k} \\sim \\mathscr{N}\\left(\\mathbf{0},(0.1) \\mathbf{1}_{2 \\times 2}\\right)\n",
    "\\end{aligned}\n",
    "$$"
   ]
  },
  {
   "cell_type": "markdown",
   "metadata": {
    "id": "QEhoQEDulk9K"
   },
   "source": [
    "Модель измерения\n",
    "$$\n",
    "\\begin{aligned}\n",
    "y_{k} &=\\phi_{k}=h\\left(p_{k}, v_{k}\\right) \\\\\n",
    "&=\\tan ^{-1}\\left(\\frac{S}{D-p_{k}}\\right)+v_{k}\n",
    "\\end{aligned}\n",
    "$$"
   ]
  },
  {
   "cell_type": "markdown",
   "metadata": {
    "id": "1RWETSSulk9K"
   },
   "source": [
    "Необходимо найти положение объекта в момент\n",
    "времени 𝒌 + 𝟏, при ∆𝒕 = 𝟎. 𝟓 сек\n",
    "\n",
    "$$\n",
    "\\begin{array}{cl}\n",
    "\\hat{\\mathbf{x}}_{0} \\sim \\mathscr{N}\\left(\\left[\\begin{array}{l}\n",
    "0 \\\\\n",
    "5\n",
    "\\end{array}\\right],\\right. & \\left.\\left[\\begin{array}{cc}\n",
    "0.01 & 0 \\\\\n",
    "0 & 1\n",
    "\\end{array}\\right]\\right) \\\\\n",
    "u_{0}=-2\\left[\\mathrm{~m} / \\mathrm{s}^{2}\\right] & y_{1}=\\pi / 6[\\mathrm{rad}] \\\\\n",
    "S=20[\\mathrm{~m}] & D=40[\\mathrm{~m}]\n",
    "\\end{array}\n",
    "$$"
   ]
  },
  {
   "cell_type": "markdown",
   "metadata": {
    "id": "vhytLzhClk9K"
   },
   "source": [
    "Подключаем необходимые библиотеки"
   ]
  },
  {
   "cell_type": "code",
   "execution_count": 49,
   "metadata": {
    "id": "xWbJc22wlk9L"
   },
   "outputs": [],
   "source": [
    "import numpy as np\n",
    "from numpy.linalg import inv, cholesky\n",
    "import matplotlib.pyplot as plt"
   ]
  },
  {
   "cell_type": "markdown",
   "metadata": {
    "id": "I3RnyfEmlk9M"
   },
   "source": [
    "Задаем исходные данные:\n"
   ]
  },
  {
   "cell_type": "code",
   "execution_count": 50,
   "metadata": {
    "id": "SC6y2LM4lk9M"
   },
   "outputs": [],
   "source": [
    "x_0 = np.array([[0],[5]])\n",
    "P_0 = np.array([[0.01 , 0],\n",
    "                [0, 1]]) #ковариация в моментв ремени 0\n",
    "Q_0 = np.array([[0.1 , 0],\n",
    "                [0, 0.1]]) #ковариация модели движения в моментв ремени 0\n",
    "R_0 = 0.01 #ковариация модели измерения в моментв ремени 0\n",
    "u_0 = -2\n",
    "y_1 = np.pi/6\n",
    "S = 20\n",
    "D = 40\n",
    "dt = 0.5"
   ]
  },
  {
   "cell_type": "markdown",
   "metadata": {
    "id": "y6ipYnc_lk9N"
   },
   "source": [
    "### Начнем с предсказания\n",
    "Для этого нам понадобится наша модель движения."
   ]
  },
  {
   "cell_type": "code",
   "execution_count": 51,
   "metadata": {
    "id": "JSnHhCpPlk9N"
   },
   "outputs": [],
   "source": [
    "\n",
    "def motion_iterate(dt, x_k, u_k):\n",
    "    \"\"\"\n",
    "    example inputs:\n",
    "    dt = 0.5\n",
    "    x_k = 0\n",
    "    u_k = -2\n",
    "    \"\"\"\n",
    "    # motion model \n",
    "    x_matrix = np.array([[1, dt], [0, 1]])\n",
    "    u_matrix = np.array([[0], [dt]])\n",
    "    x_k = x_matrix.dot(x_k) + u_matrix*u_k\n",
    "    return x_k"
   ]
  },
  {
   "cell_type": "markdown",
   "metadata": {
    "id": "8Yr4BO8ylk9N"
   },
   "source": [
    "Вспомнинаем, для N мерного распределения нам необходимо взять N+1 сигма точек."
   ]
  },
  {
   "cell_type": "code",
   "execution_count": 52,
   "metadata": {
    "id": "QfE2nmjwlk9N",
    "outputId": "e50722e6-bb89-4686-f673-4971da2d5a06"
   },
   "outputs": [
    {
     "name": "stdout",
     "output_type": "stream",
     "text": [
      "[[0.1 0. ]\n",
      " [0.  1. ]]\n",
      "[array([[0],\n",
      "       [5]]), array([[0.17320508],\n",
      "       [5.        ]]), array([[0.        ],\n",
      "       [6.73205081]]), array([[-0.17320508],\n",
      "       [ 5.        ]]), array([[0.        ],\n",
      "       [3.26794919]])]\n"
     ]
    }
   ],
   "source": [
    "#разложение Холецкого для ковариационной матрицы\n",
    "N = 2 # размерность распределения\n",
    "ka = 3 - N # каппа, значнеие для нормального распределения\n",
    "hol = cholesky(P_0) \n",
    "print(hol)\n",
    "#сигма точки нужно найти\n",
    "sigma_list = []\n",
    "sigma_list.append(x_0)\n",
    "### START CODE HERE ###\n",
    "for i in range(0, N):\n",
    "    singma = x_0 + np.array(np.sqrt(N + ka) * hol[i,:]).reshape(2,1)\n",
    "    sigma_list.append(singma)\n",
    "for i in range(0, N):\n",
    "    singma = x_0 - np.array(np.sqrt(N + ka) * hol[i,:]).reshape(2,1)\n",
    "    sigma_list.append(singma)\n",
    "### END CODE HERE ###\n",
    "print(sigma_list)"
   ]
  },
  {
   "cell_type": "code",
   "execution_count": 53,
   "metadata": {
    "id": "d-W-EPi6lk9O",
    "outputId": "d6133b3f-f156-4426-95f8-b6d40ef5ab1f"
   },
   "outputs": [
    {
     "name": "stdout",
     "output_type": "stream",
     "text": [
      "Predicted sigma points:  [[[2.5       ]\n",
      "  [4.        ]]\n",
      "\n",
      " [[2.67320508]\n",
      "  [4.        ]]\n",
      "\n",
      " [[3.3660254 ]\n",
      "  [5.73205081]]\n",
      "\n",
      " [[2.32679492]\n",
      "  [4.        ]]\n",
      "\n",
      " [[1.6339746 ]\n",
      "  [2.26794919]]]\n"
     ]
    }
   ],
   "source": [
    "# теперь пропускаем наши сигма точки через нелинейную функцию (модель движения)\n",
    "# чтобы получить сигма  точки для момента времени k\n",
    "sigma_predicted = np.zeros((len(sigma_list), 2, 1))\n",
    "\n",
    "for i, sigma in enumerate(sigma_list):\n",
    "    sigma_predicted[i] = motion_iterate(0.5, sigma, -2)\n",
    "    \n",
    "print('Predicted sigma points: ', sigma_predicted)"
   ]
  },
  {
   "cell_type": "code",
   "execution_count": 54,
   "metadata": {
    "id": "DxCdU6JPlk9P",
    "outputId": "ffd3c132-cba2-4531-ad18-b737c1ebad9a"
   },
   "outputs": [
    {
     "data": {
      "image/png": "[encoded data removed]",
      "text/plain": [
       "<Figure size 800x800 with 1 Axes>"
      ]
     },
     "metadata": {},
     "output_type": "display_data"
    }
   ],
   "source": [
    "mean_x = sigma_predicted[:,0].mean(axis=0)\n",
    "mean_y = sigma_predicted[:,1].mean(axis=0)\n",
    "\n",
    "plt.figure(figsize=(8, 8))\n",
    "plt.scatter(sigma_predicted[:,0], sigma_predicted[:,1])\n",
    "plt.scatter(mean_x, mean_y, color='red', s=300, alpha=0.5)\n",
    "plt.xlabel('x')\n",
    "plt.ylabel('y')\n",
    "plt.show()"
   ]
  },
  {
   "cell_type": "markdown",
   "metadata": {
    "id": "Bd-mzDLflk9P"
   },
   "source": [
    "Рачет парметров выходных данных(предсказанных): среднего и ковариации."
   ]
  },
  {
   "cell_type": "code",
   "execution_count": 55,
   "metadata": {
    "id": "CwMwC7bflk9P",
    "outputId": "9f964f9f-ad45-4091-c5e6-e9640d4636be"
   },
   "outputs": [
    {
     "name": "stdout",
     "output_type": "stream",
     "text": [
      "The new mean =  [[2.5]\n",
      " [4. ]]\n",
      "The new covariance =  [[0.36 0.5 ]\n",
      " [0.5  1.1 ]]\n"
     ]
    }
   ],
   "source": [
    "#коэффициенты надо посчитать\n",
    "a_list = []\n",
    "for i in range(2*N + 1):\n",
    "    if i == 0:\n",
    "        alpha = ka / (N + ka)\n",
    "        a_list.append(alpha)\n",
    "    else:\n",
    "        alpha = 0.5 / (N + ka)\n",
    "        a_list.append(alpha)\n",
    "#инициализируем переменные для нового распределения\n",
    "x_new = np.array([[0.0],[0.0]])\n",
    "P_new = np.array([[0.0, 0.0],[0.0, 0.0]])\n",
    "\n",
    "#среднее нового распределения\n",
    "x_new = sum([a_list[i]*sigma_predicted[i] for i in range(2*N + 1)])\n",
    "#ковариация нового распределения\n",
    "P_new = sum(a_list[i]*(sigma_predicted[i] - x_new) * (sigma_predicted[i] - x_new).T for i in range(2*N + 1)) + Q_0\n",
    "print(\"The new mean = \", x_new)\n",
    "print(\"The new covariance = \", P_new)"
   ]
  },
  {
   "cell_type": "markdown",
   "metadata": {
    "id": "luiuSJR6lk9Q"
   },
   "source": [
    "### Теперь, зная наше предсказание, когда мы сделаем измерение, мы сможем сделать поправку\n",
    "аналогичная процедура, только на этот раз с нелинейной моделью измерения\n",
    "$$\n",
    "\\hat{\\mathbf{y}}_{k}^{(i)}=\\mathbf{h}_{k}\\left(\\check{\\mathbf{x}}_{k}^{(i)}, \\mathbf{0}\\right) \\quad i=0 \\ldots 2 N\n",
    "$$"
   ]
  },
  {
   "cell_type": "code",
   "execution_count": 58,
   "metadata": {
    "id": "pOTpuFRelk9Q",
    "outputId": "d3fa9e83-a6f2-4f9c-d1ae-857e79e710b0"
   },
   "outputs": [
    {
     "name": "stdout",
     "output_type": "stream",
     "text": [
      "[[0.6        0.        ]\n",
      " [0.83333333 0.63683244]]\n",
      "[array([[2.5],\n",
      "       [4. ]]), array([[3.53923048],\n",
      "       [4.        ]]), array([[3.94337567],\n",
      "       [5.10302614]]), array([[1.46076952],\n",
      "       [4.        ]]), array([[1.05662433],\n",
      "       [2.89697386]])]\n"
     ]
    }
   ],
   "source": [
    "#разложение уже нашего P_new\n",
    "hol = cholesky(P_new)\n",
    "print(hol)\n",
    "\n",
    "# аналогично находим сигма точки\n",
    "cor_sigma_list = []\n",
    "cor_sigma_list.append(x_new)\n",
    "for i in range(0, N):\n",
    "    singma = x_new + np.array(np.sqrt(N + ka) * hol[i,:]).reshape(2,1)\n",
    "    cor_sigma_list.append(singma)\n",
    "for i in range(0, N):\n",
    "    singma = x_new - np.array(np.sqrt(N + ka) * hol[i,:]).reshape(2,1)\n",
    "    cor_sigma_list.append(singma)\n",
    "print(cor_sigma_list)\n"
   ]
  },
  {
   "cell_type": "code",
   "execution_count": 70,
   "metadata": {
    "id": "VBJA3uJPlk9R",
    "outputId": "2e00d935-c70c-4b9a-d9bd-b06e8a16bbe2"
   },
   "outputs": [
    {
     "data": {
      "text/plain": [
       "0.4899573262537283"
      ]
     },
     "execution_count": 70,
     "metadata": {},
     "output_type": "execute_result"
    }
   ],
   "source": [
    "def measure_iterate(S,D,pk):\n",
    "    \"\"\"\n",
    "    example inputs:\n",
    "    S = 0.5\n",
    "    D = 0\n",
    "    p_k = -2\n",
    "    \"\"\"\n",
    "    # motion model \n",
    "    y_k = np.arctan(S/(D-pk))\n",
    "    return y_k\n",
    "\n",
    "p_k = cor_sigma_list[0][0][0]\n",
    "measure_iterate(S,D,p_k)"
   ]
  },
  {
   "cell_type": "code",
   "execution_count": 71,
   "metadata": {
    "id": "hk6hWxwzlk9R",
    "outputId": "6a4e939f-d258-4561-9722-c0e4681bb4b1"
   },
   "outputs": [
    {
     "name": "stdout",
     "output_type": "stream",
     "text": [
      "[0.4899573262537283, 0.5017175820877777, 0.5064315663996093, 0.4786937816119785, 0.474441544612606]\n"
     ]
    }
   ],
   "source": [
    "# аналогично прогоняем через модель\n",
    "sigma_mes_list = []\n",
    "for i, sigma in enumerate(cor_sigma_list):\n",
    "    sigma_mes_list.append(measure_iterate(S, D, sigma[0][0]))\n",
    "print(sigma_mes_list)"
   ]
  },
  {
   "cell_type": "markdown",
   "metadata": {
    "id": "TBrr_6Nflk9R"
   },
   "source": [
    "Теперь считаем среднюю и ковариацию"
   ]
  },
  {
   "cell_type": "code",
   "execution_count": 73,
   "metadata": {
    "id": "Xvb8uAV1lk9S",
    "outputId": "25b06e38-1995-4c20-cefc-31a437fde022"
   },
   "outputs": [
    {
     "name": "stdout",
     "output_type": "stream",
     "text": [
      "The new mean =  0.49019985453657133\n",
      "The new covariance =  0.010129493033948377\n"
     ]
    }
   ],
   "source": [
    "#среднее нового распределения\n",
    "y_new = sum([a_list[i]*sigma_mes_list[i] for i in range(2*N + 1)])\n",
    "P_y_new = sum(a_list[i]*(sigma_mes_list[i] - y_new) * (sigma_mes_list[i] - y_new).T for i in range(2*N + 1)) + R_0\n",
    "#..\n",
    "print(\"The new mean = \", y_new)\n",
    "print(\"The new covariance = \", P_y_new)"
   ]
  },
  {
   "cell_type": "markdown",
   "metadata": {
    "id": "pOkhrWQNlk9W"
   },
   "source": [
    "Считаем  кросс ковариацию, усилитель калмана и получаем финальное значение оценки\n"
   ]
  },
  {
   "cell_type": "code",
   "execution_count": 74,
   "metadata": {
    "id": "zknob5L1lk9Y",
    "outputId": "0e3ada31-d2c5-4af1-bb8f-46b06b3d7c58"
   },
   "outputs": [
    {
     "name": "stdout",
     "output_type": "stream",
     "text": [
      "[[0.005282  ]\n",
      " [0.00923472]]\n"
     ]
    }
   ],
   "source": [
    "P_xy = np.array([[0.0],[0.0]])\n",
    "P_xy = sum(a_list[i]*(sigma_predicted[i] - x_new) * (sigma_mes_list[i] - y_new).T for i in range(2*N + 1))\n",
    "print(P_xy)"
   ]
  },
  {
   "cell_type": "code",
   "execution_count": 75,
   "metadata": {
    "id": "Ii07vsRFlk9c",
    "outputId": "4b4f68bf-9920-4cae-f1d9-55155f9cff94"
   },
   "outputs": [
    {
     "name": "stdout",
     "output_type": "stream",
     "text": [
      "[[5.35040004e-05]\n",
      " [9.35430709e-05]]\n"
     ]
    }
   ],
   "source": [
    "#усилитель\n",
    "K = P_xy*P_y_new\n",
    "print(K)"
   ]
  },
  {
   "cell_type": "code",
   "execution_count": 76,
   "metadata": {
    "id": "rnEyHL4Klk9f",
    "outputId": "798c37dd-a0e5-4af0-e4b9-02394f857ddb"
   },
   "outputs": [
    {
     "name": "stdout",
     "output_type": "stream",
     "text": [
      "[[2.50000179]\n",
      " [4.00000312]]\n"
     ]
    }
   ],
   "source": [
    "# финальная оценка после корректировки\n",
    "x_1 = x_new + K * (y_1 - y_new)\n",
    "print(x_1)"
   ]
  },
  {
   "cell_type": "code",
   "execution_count": null,
   "metadata": {
    "id": "NMKCxRzSlk9h"
   },
   "outputs": [],
   "source": []
  }
 ],
 "metadata": {
  "colab": {
   "provenance": []
  },
  "kernelspec": {
   "display_name": "Python 3 (ipykernel)",
   "language": "python",
   "name": "python3"
  },
  "language_info": {
   "codemirror_mode": {
    "name": "ipython",
    "version": 3
   },
   "file_extension": ".py",
   "mimetype": "text/x-python",
   "name": "python",
   "nbconvert_exporter": "python",
   "pygments_lexer": "ipython3",
   "version": "3.10.12"
  }
 },
 "nbformat": 4,
 "nbformat_minor": 4
}
